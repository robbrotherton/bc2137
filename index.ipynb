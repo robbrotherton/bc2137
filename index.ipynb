{
  "cells": [
    {
      "cell_type": "markdown",
      "metadata": {},
      "source": [
        "# About this handbook {.unnumbered}\n",
        "\n",
        "\n",
        "\n",
        "> Only when certain events recur in accordance with rules or regularities, as in the case of repeatable experiments, can our observations be tested—in principle—by anyone. We do not take even our own observations quite\n",
        "seriously, or accept them as scientific observations, until we have\n",
        "repeated and tested them. Only by such repetition can we convince ourselves that we are not dealing with a mere isolated ‘coincidence,’ but with events which, on account of their regularity and reproducibility, are in principle inter-subjectively testable.\n",
        ">\n",
        "> -- <cite>Karl Popper ([1959](http://philotextes.info/spip/IMG/pdf/popper-logic-scientific-discovery.pdf))</cite>\n",
        "\n",
        "\n",
        "\n",
        "This handbook is intended to serve as a resource allowing you to see from the outset what lies ahead, and as a place to collect your notes as we progress through the course.\n",
        "\n",
        "It is important that you know in advance what to expect from this lab so that you can plan your time accordingly. That information is all here in this handbook. This laboratory handbook outlines the procedures, rationales, and techniques for lab exercises, and provides an overview of the accompanying assignment for each week. \n",
        "\n",
        "You’ll find a section for each lab session, giving a brief overview of the main themes and questions for that session, some suggested (optional) additional readings, and any pertinent information about the accompanying assignment. \n",
        "\n",
        "Each lab section contains blank pages for recording notes and for collecting observations. Therefore, you should bring the lab manual to each meeting of the lab.\n",
        "\n",
        "You’ll also find a number of appendices, covering things like searching the academic literature, how to approach reading journal articles, summaries of the basic statistics you should be familiar with, examples of informed consent and debriefing forms, and an extensive guide to writing a lab report.\n",
        "\n",
        "I will reiterate much of this information as part of each lab session’s instructional component, and we’ll greatly expand on the themes through the activities I’ll have you do and our collective discussions that follow. \n",
        "\n",
        "You should skim through this handbook at the beginning of the course so that you have at least a rough sense of what will be required and when, and so you know where you can find relevant information as and when you need it.\n",
        "\n",
        "\n",
        "\n",
        "\n",
        "```{css}\n",
        "#TOC {\n",
        "  display: none;\n",
        "}\n",
        "\n",
        "```"
      ],
      "id": "b137297c"
    }
  ],
  "metadata": {
    "kernelspec": {
      "name": "python3",
      "language": "python",
      "display_name": "Python 3 (ipykernel)"
    }
  },
  "nbformat": 4,
  "nbformat_minor": 5
}